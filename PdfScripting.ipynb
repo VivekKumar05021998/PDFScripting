{
 "cells": [
  {
   "cell_type": "code",
   "execution_count": 1,
   "id": "704eb716",
   "metadata": {},
   "outputs": [],
   "source": [
    "from pdfminer.pdfparser import PDFParser\n",
    "from pdfminer.pdfdocument import PDFDocument\n",
    "from pdfminer.pdfpage import PDFPage\n",
    "from pdfminer.pdfpage import PDFTextExtractionNotAllowed\n",
    "from pdfminer.pdfinterp import PDFResourceManager\n",
    "from pdfminer.pdfinterp import PDFPageInterpreter\n",
    "from pdfminer.layout import LAParams\n",
    "from pdfminer.converter import PDFPageAggregator\n",
    "\n",
    "\n",
    "def extract_layout_by_page(pdf_path):\n",
    "    laparams = LAParams()\n",
    "\n",
    "    fp = open(pdf_path, 'rb')\n",
    "    parser = PDFParser(fp)\n",
    "    document = PDFDocument(parser)\n",
    "\n",
    "    if not document.is_extractable:\n",
    "        raise PDFTextExtractionNotAllowed\n",
    "\n",
    "    rsrcmgr = PDFResourceManager()\n",
    "    device = PDFPageAggregator(rsrcmgr, laparams=laparams)\n",
    "    interpreter = PDFPageInterpreter(rsrcmgr, device)\n",
    "\n",
    "    layouts = []\n",
    "    for page in PDFPage.create_pages(document):\n",
    "        interpreter.process_page(page)\n",
    "        layouts.append(device.get_result())\n",
    "\n",
    "    return layouts\n",
    "\n",
    "example_file = \"StandardTest.pdf\"\n",
    "page_layouts = extract_layout_by_page(example_file)"
   ]
  },
  {
   "cell_type": "code",
   "execution_count": 2,
   "id": "3a5a061a",
   "metadata": {},
   "outputs": [
    {
     "data": {
      "text/plain": [
       "1"
      ]
     },
     "execution_count": 2,
     "metadata": {},
     "output_type": "execute_result"
    }
   ],
   "source": [
    "len(page_layouts)"
   ]
  },
  {
   "cell_type": "code",
   "execution_count": 3,
   "id": "892d6e7c",
   "metadata": {},
   "outputs": [
    {
     "data": {
      "text/plain": [
       "{pdfminer.layout.LTCurve,\n",
       " pdfminer.layout.LTLine,\n",
       " pdfminer.layout.LTRect,\n",
       " pdfminer.layout.LTTextBoxHorizontal}"
      ]
     },
     "execution_count": 3,
     "metadata": {},
     "output_type": "execute_result"
    }
   ],
   "source": [
    "objects_on_page = set(type(o) for o in page_layouts[0])\n",
    "objects_on_page"
   ]
  },
  {
   "cell_type": "code",
   "execution_count": 4,
   "id": "47f8ebba",
   "metadata": {},
   "outputs": [],
   "source": [
    "import pdfminer\n",
    "\n",
    "TEXT_ELEMENTS = [\n",
    "    pdfminer.layout.LTTextBox,\n",
    "    pdfminer.layout.LTTextBoxHorizontal,\n",
    "    pdfminer.layout.LTTextLine,\n",
    "    pdfminer.layout.LTTextLineHorizontal\n",
    "]\n",
    "\n",
    "def flatten(lst):\n",
    "    \"\"\"Flattens a list of lists\"\"\"\n",
    "    return [subelem for elem in lst for subelem in elem]\n",
    "\n",
    "\n",
    "def extract_characters(element):\n",
    "    \"\"\"\n",
    "    Recursively extracts individual characters from \n",
    "    text elements. \n",
    "    \"\"\"\n",
    "    if isinstance(element, pdfminer.layout.LTChar):\n",
    "        return [element]\n",
    "\n",
    "    if any(isinstance(element, i) for i in TEXT_ELEMENTS):\n",
    "        return flatten([extract_characters(e) for e in element])\n",
    "\n",
    "    if isinstance(element, list):\n",
    "        return flatten([extract_characters(l) for l in element])\n",
    "\n",
    "    return []\n",
    "\n",
    "current_page = page_layouts[0]\n",
    "\n",
    "texts = []\n",
    "rtLines = []\n",
    "rects = []\n",
    "\n",
    "# seperate text and rectangle elements\n",
    "for e in current_page:\n",
    "    if isinstance(e, pdfminer.layout.LTTextBoxHorizontal):\n",
    "        texts.append(e)\n",
    "    elif isinstance(e, pdfminer.layout.LTLine):\n",
    "        rtLines.append(e)\n",
    "    elif isinstance(e, pdfminer.layout.LTRect):\n",
    "        rects.append(e)\n",
    "\n",
    "# sort them into \n",
    "characters = extract_characters(texts)\n",
    "characterlist=[]\n",
    "for c in characters:\n",
    "    a=[]\n",
    "    a.extend([c.bbox[0],c.bbox[1],c.bbox[2],c.bbox[3],c._text])\n",
    "    characterlist.append(a)\n",
    "    \n",
    "def sortCharacters(listOfChar):\n",
    "    copyOfCharacterList = listOfChar\n",
    "    copyOfCharacterList.sort(key = lambda x:x[1], reverse = True)\n",
    "    for i in range(1,len(copyOfCharacterList)):\n",
    "        value = copyOfCharacterList[i]\n",
    "        hole = i-1\n",
    "        while(hole>=0 and copyOfCharacterList[hole][1]>value[1] and copyOfCharacterList[hole][2] == value[2]):      \n",
    "            copyOfCharacterList[hole+1] = copyOfCharacterList[hole]\n",
    "            hole -= 1\n",
    "        copyOfCharacterList[hole+1] = value\n",
    "    return copyOfCharacterList\n",
    "\n",
    "characterlist = sortCharacters(characterlist)\n",
    "horizontalSeperators = []\n",
    "verticalSeperators = []\n",
    "for r in rtLines:\n",
    "    x1, x2, x3, x4 = r.bbox[0] , r.bbox[1], r.bbox[2], r.bbox[3]\n",
    "    if(x2==x4):\n",
    "        horizontalSeperators.append([x1, x2, x3, x4])\n",
    "    elif(x1==x3):\n",
    "        verticalSeperators.append([x1, x2, x3, x4])"
   ]
  },
  {
   "cell_type": "code",
   "execution_count": 5,
   "id": "20ae686a",
   "metadata": {},
   "outputs": [],
   "source": [
    "def extractTableData(listOfChar):\n",
    "    rowData = []\n",
    "    for h in range(len(horizontalSeperators)-1):\n",
    "        cellData = []\n",
    "        for v in range(len(verticalSeperators)-1):            \n",
    "            words = []\n",
    "            for char in listOfChar:\n",
    "                if(verticalSeperators[v][0] <= char[0]+2 and verticalSeperators[v+1][0] >= char[2]-2 and horizontalSeperators[h][1] >= char[3]-2 and horizontalSeperators[h+1][1] <= char[1]+2):\n",
    "                    words.append(char)\n",
    "            cellData.append(words)\n",
    "        rowData.append(cellData)\n",
    "    return rowData"
   ]
  },
  {
   "cell_type": "code",
   "execution_count": 6,
   "id": "adc24b3f",
   "metadata": {},
   "outputs": [],
   "source": [
    "TableData = extractTableData(characterlist)"
   ]
  },
  {
   "cell_type": "code",
   "execution_count": 7,
   "id": "e2db1f17",
   "metadata": {},
   "outputs": [],
   "source": [
    "def returnStringfromCharacterlist(listOfChar):\n",
    "    outputString = \"\"\n",
    "    count = len(listOfChar)\n",
    "    for k in range(count-1):\n",
    "        if(listOfChar[k][1] > listOfChar[k+1][1]):\n",
    "            outputString += listOfChar[k][4] + \"\\n\"\n",
    "        elif((round(listOfChar[k][2])-round(listOfChar[k+1][0])) >= -1):\n",
    "            outputString += listOfChar[k][4]\n",
    "        else:\n",
    "            outputString += listOfChar[k][4] + \" \"\n",
    "    outputString += listOfChar[count-1][4]\n",
    "    return outputString"
   ]
  },
  {
   "cell_type": "code",
   "execution_count": 8,
   "id": "cbc62030",
   "metadata": {},
   "outputs": [
    {
     "name": "stdout",
     "output_type": "stream",
     "text": [
      "It’s a good product that can\n",
      "make the life of a person\n",
      "great.\n"
     ]
    }
   ],
   "source": [
    "print(returnStringfromCharacterlist(TableData[1][1]))"
   ]
  },
  {
   "cell_type": "code",
   "execution_count": 9,
   "id": "c4704de8",
   "metadata": {},
   "outputs": [],
   "source": [
    "def returnRelativeCharactersWRTWords(listOfChar,words,operation):\n",
    "    characterInWords = list(words.replace(\" \",\"\"))\n",
    "    flag = False\n",
    "    characterList = []\n",
    "    position = 0\n",
    "    for i in range(len(listOfChar)-1):\n",
    "        if(listOfChar[i][4] == characterInWords[0]):\n",
    "            for j in range(len(characterInWords)-1):\n",
    "                if(listOfChar[i+j][4] == characterInWords[j]):\n",
    "                    flag = True\n",
    "                else:\n",
    "                    flag = False\n",
    "                    break\n",
    "            if(flag == False):\n",
    "                continue\n",
    "            else:\n",
    "                if(operation == \"LeftOf\"):\n",
    "                    position = listOfChar[i][0]\n",
    "                elif(operation == \"RightOf\"):\n",
    "                    position = listOfChar[i][2]\n",
    "                elif(operation == \"Below\"):\n",
    "                    position = listOfChar[i][1]\n",
    "                elif(operation == \"Above\"):\n",
    "                    position = listOfChar[i][3]\n",
    "                else:\n",
    "                    raise Exception\n",
    "                break\n",
    "    if(flag == True):\n",
    "        if(operation == \"LeftOf\"):\n",
    "            for k in range(len(listOfChar)):\n",
    "                if(listOfChar[k][0]< position):\n",
    "                    characterList.append(listOfChar[k])\n",
    "            return characterList  \n",
    "        elif(operation == \"RightOf\"):\n",
    "            for k in range(len(listOfChar)):\n",
    "                if(listOfChar[k][2] > position):\n",
    "                    characterList.append(listOfChar[k])\n",
    "            return characterList \n",
    "        elif(operation == \"Below\"):\n",
    "            for k in range(len(listOfChar)):\n",
    "                if(listOfChar[k][1]< position):\n",
    "                    characterList.append(listOfChar[k])\n",
    "            return characterList \n",
    "        elif(operation == \"Above\"):\n",
    "            for k in range(len(listOfChar)):\n",
    "                if(listOfChar[k][3]> position):\n",
    "                    characterList.append(listOfChar[k])\n",
    "            return characterList \n",
    "    else:\n",
    "        raise Exception"
   ]
  },
  {
   "cell_type": "code",
   "execution_count": 10,
   "id": "d1e19eb1",
   "metadata": {},
   "outputs": [
    {
     "name": "stdout",
     "output_type": "stream",
     "text": [
      "Name : Vivek Kumar\n",
      "Phone No : +91 8105694842\n",
      "Email: vivekkumarvik@\n",
      "gmail.com\n",
      "Name Description\n",
      "Bag It’s a good product\n",
      "make the life of a\n",
      "great.\n",
      "Shoes Wear it well\n",
      "from Main Road withCar Wheeli Wali gaddi\n",
      "Multiple wheel\n",
      "Mobile Best Tool\n",
      "Laptop For Working and\n",
      "games\n"
     ]
    }
   ],
   "source": [
    "print(returnStringfromCharacterlist(returnRelativeCharactersWRTWords(characterlist,\"Amrud Bagan\",\"LeftOf\")))"
   ]
  },
  {
   "cell_type": "code",
   "execution_count": 11,
   "id": "d79d8cb4",
   "metadata": {},
   "outputs": [
    {
     "data": {
      "text/plain": [
       "'\\ndef returnRelativeCharacters(listOfChar,offset,operation):\\n    if(operation == \"LeftOf\"):\\n        for k in range(len(listOfChar)):\\n            if(listOfChar[k][0]< position):\\n                characterList.append(listOfChar[k])\\n        return characterList  \\n    elif(operation == \"RightOf\"):\\n        for k in range(len(listOfChar)):\\n            if(listOfChar[k][2] > position):\\n                characterList.append(listOfChar[k])\\n        return characterList \\n    elif(operation == \"Below\"):\\n        for k in range(len(listOfChar)):\\n            if(listOfChar[k][1]< position):\\n                characterList.append(listOfChar[k])\\n        return characterList \\n    elif(operation == \"Above\"):\\n        for k in range(len(listOfChar)):\\n            if(listOfChar[k][3]> position):\\n                characterList.append(listOfChar[k])\\n        return characterList\\n'"
      ]
     },
     "execution_count": 11,
     "metadata": {},
     "output_type": "execute_result"
    }
   ],
   "source": [
    "\"\"\"\n",
    "def returnRelativeCharacters(listOfChar,offset,operation):\n",
    "    if(operation == \"LeftOf\"):\n",
    "        for k in range(len(listOfChar)):\n",
    "            if(listOfChar[k][0]< position):\n",
    "                characterList.append(listOfChar[k])\n",
    "        return characterList  \n",
    "    elif(operation == \"RightOf\"):\n",
    "        for k in range(len(listOfChar)):\n",
    "            if(listOfChar[k][2] > position):\n",
    "                characterList.append(listOfChar[k])\n",
    "        return characterList \n",
    "    elif(operation == \"Below\"):\n",
    "        for k in range(len(listOfChar)):\n",
    "            if(listOfChar[k][1]< position):\n",
    "                characterList.append(listOfChar[k])\n",
    "        return characterList \n",
    "    elif(operation == \"Above\"):\n",
    "        for k in range(len(listOfChar)):\n",
    "            if(listOfChar[k][3]> position):\n",
    "                characterList.append(listOfChar[k])\n",
    "        return characterList\n",
    "\"\"\""
   ]
  },
  {
   "cell_type": "code",
   "execution_count": null,
   "id": "1f7b55a4",
   "metadata": {},
   "outputs": [],
   "source": []
  }
 ],
 "metadata": {
  "kernelspec": {
   "display_name": "Python 3 (ipykernel)",
   "language": "python",
   "name": "python3"
  },
  "language_info": {
   "codemirror_mode": {
    "name": "ipython",
    "version": 3
   },
   "file_extension": ".py",
   "mimetype": "text/x-python",
   "name": "python",
   "nbconvert_exporter": "python",
   "pygments_lexer": "ipython3",
   "version": "3.9.6"
  }
 },
 "nbformat": 4,
 "nbformat_minor": 5
}
